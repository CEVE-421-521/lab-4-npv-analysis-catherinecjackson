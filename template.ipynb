{
  "cells": [
    {
      "cell_type": "raw",
      "metadata": {},
      "source": [
        "---\n",
        "title: 'Lab 4: House Elevation NPV Analysis'\n",
        "author: Catherine Jackson\n",
        "date: '2024-02-08'\n",
        "week: 5\n",
        "categories:\n",
        "  - Lab\n",
        "format:\n",
        "  html: default\n",
        "  pdf:\n",
        "    documentclass: article\n",
        "    fontsize: 11pt\n",
        "    geometry:\n",
        "      - margin=1in\n",
        "    number-sections: true\n",
        "    code-line-numbers: true\n",
        "execute:\n",
        "  cache: true\n",
        "  freeze: true\n",
        "date-format: 'ddd., MMM. D'\n",
        "bibliography: references.bib\n",
        "---"
      ],
      "id": "1b91d771"
    },
    {
      "cell_type": "markdown",
      "metadata": {},
      "source": [
        "# Lab 3: Previous Work\n",
        "\n",
        "## Packages\n"
      ],
      "id": "82b1a8d3"
    },
    {
      "cell_type": "code",
      "metadata": {},
      "source": [
        "using CSV\n",
        "using DataFrames\n",
        "using DataFramesMeta\n",
        "using Distributions\n",
        "using Interpolations\n",
        "using Plots\n",
        "using StatsPlots\n",
        "using Unitful\n",
        "\n",
        "Plots.default(; margin=6Plots.mm)"
      ],
      "id": "075b7974",
      "execution_count": null,
      "outputs": []
    },
    {
      "cell_type": "markdown",
      "metadata": {},
      "source": [
        "## Site information\n",
        "\n",
        "### Site of Interest\n",
        "\n",
        "I have chosen the Galveston Pier 21 site as my water gage and a home at 304 18th St, Galveston, TX 77550 to be my site of interest.  I chose this site as it is a residential building within half a mile of the water gage itself.  Furthermore, it is still very close to the coast of Galveston channel.  For this reason, it is a good candidate for exploring and understanding the impacts of coastal flooding and the complexities of making decisions on flood mitigation strategies.\n",
        "\n",
        "\n",
        "## Depth-Damage\n"
      ],
      "id": "e918c09c"
    },
    {
      "cell_type": "code",
      "metadata": {},
      "source": [
        "include(\"depthdamage.jl\")\n",
        "haz_fl_dept = CSV.read(\"data/haz_fl_dept.csv\", DataFrame);\n",
        "demo_row = @rsubset(\n",
        "    haz_fl_dept, :Description == \"two story, no basement, Structure\", :Occupancy == \"RES1\", :Source == \"USACE - Galveston\", :DmgFnId == 140\n",
        ")[\n",
        "    1, :,\n",
        "]\n",
        "dd = DepthDamageData(demo_row);\n",
        "fieldnames(typeof(dd));"
      ],
      "id": "57184b7b",
      "execution_count": null,
      "outputs": []
    },
    {
      "cell_type": "markdown",
      "metadata": {},
      "source": [
        "The function below is taken from index.qmd and is used to interpolate the depth-damage curve.  \n"
      ],
      "id": "fede81dc"
    },
    {
      "cell_type": "code",
      "metadata": {},
      "source": [
        "function get_depth_damage_function(\n",
        "    depth_train::Vector{<:T}, dmg_train::Vector{<:AbstractFloat}\n",
        "    ) where {T<:Unitful.Length}\n",
        "\n",
        "    # interpolate\n",
        "    depth_ft = ustrip.(u\"ft\", depth_train)\n",
        "    interp_fn = Interpolations.LinearInterpolation(\n",
        "        depth_ft, # <1>\n",
        "        dmg_train;\n",
        "        extrapolation_bc=Interpolations.Flat(), # <2>\n",
        "    )\n",
        "\n",
        "    damage_fn = function (depth::T2) where {T2<:Unitful.Length}\n",
        "        return interp_fn(ustrip.(u\"ft\", depth)) # <3>\n",
        "    end\n",
        "    return damage_fn # <4>\n",
        "end"
      ],
      "id": "c758798b",
      "execution_count": null,
      "outputs": []
    },
    {
      "cell_type": "code",
      "metadata": {},
      "source": [
        "global damage_fn = get_depth_damage_function(dd.depths, dd.damages);"
      ],
      "id": "5308a92e",
      "execution_count": null,
      "outputs": []
    },
    {
      "cell_type": "markdown",
      "metadata": {},
      "source": [
        "## Expected Annual Damages\n",
        "\n",
        "### Flood distribution\n",
        "\n",
        "Below, we have the flood distribution of our gage adjusted based on the elevation of our site.\n"
      ],
      "id": "9a6e75bd"
    },
    {
      "cell_type": "code",
      "metadata": {},
      "source": [
        "gauge_dist = GeneralizedExtremeValue(5, 1.5, 0.1)\n",
        "p1 = plot(\n",
        "    gauge_dist;\n",
        "    label=\"Gauge Distribution\",\n",
        "    xlabel=\"Water Level (ft)\",\n",
        "    ylabel=\"Probability Density\",\n",
        "    legend=:topright,\n",
        "    linewidth=2,\n",
        ")\n",
        "offset = 4.3;\n",
        "house_dist = GeneralizedExtremeValue(gauge_dist.μ - offset, gauge_dist.σ, gauge_dist.ξ);"
      ],
      "id": "8ec06dba",
      "execution_count": null,
      "outputs": []
    },
    {
      "cell_type": "markdown",
      "metadata": {},
      "source": [
        "### Monte Carlo Sampling\n"
      ],
      "id": "3776894e"
    },
    {
      "cell_type": "code",
      "metadata": {},
      "source": [
        "n_samples = 1_000_000;\n",
        "vecsamples = rand(house_dist, n_samples);\n",
        "vecsamples = vecsamples .* u\"ft\"\n",
        "damages = damage_fn.(vecsamples);\n",
        "expecteddamages = mean(damages)"
      ],
      "id": "3baede5f",
      "execution_count": null,
      "outputs": []
    },
    {
      "cell_type": "markdown",
      "metadata": {},
      "source": [
        "# Lab 4: House Elevation NPV Analysis\n",
        "\n",
        "## Packages\n"
      ],
      "id": "5d77e0d8"
    },
    {
      "cell_type": "code",
      "metadata": {},
      "source": [
        "#| output: false\n",
        "using CSV\n",
        "using DataFrames\n",
        "using DataFramesMeta\n",
        "using Distributions\n",
        "using Interpolations\n",
        "using Plots\n",
        "using StatsPlots\n",
        "using Unitful\n",
        "\n",
        "Plots.default(; margin=6Plots.mm)\n",
        "\n",
        "include(\"depthdamage.jl\")"
      ],
      "id": "9ed781c5",
      "execution_count": null,
      "outputs": []
    },
    {
      "cell_type": "markdown",
      "metadata": {},
      "source": [
        "## Site information\n",
        "\n",
        "As with Lab 03, I chose to study a property near Pier 21 in Galveston TX, 304 18th St, Galveston, TX 77550.  Using information from Zillow and HAR, I was able to find information about the value of the home itself and the square footage of the property.  The home is valued at $264,456 and has a square footage of 881 square feet.  However, this is made complicated by the fact that floods only damage **structures** and not the land itself.  For this reason, I found nearby lots, without homes or structures, and analyzed their values.  Based on this analysis, I found that a similar location, close to the water and heart of Galveston, could go for anywhere around $70,000.  This leaves a structural value of $194,456.\n"
      ],
      "id": "a5ce32b5"
    },
    {
      "cell_type": "code",
      "metadata": {},
      "source": [
        "house_area = 881*u\"ft^2\" ;\n",
        "house_value = 194456 ;\n",
        "Δh = 1.0*u\"ft\" ;"
      ],
      "id": "2fd9a4bf",
      "execution_count": null,
      "outputs": []
    },
    {
      "cell_type": "markdown",
      "metadata": {},
      "source": [
        "## Expected Damages\n",
        "\n",
        "As a quick reminder, the expected annual damages are calculated as follows:\n"
      ],
      "id": "186f4300"
    },
    {
      "cell_type": "code",
      "metadata": {},
      "source": [
        "n_samples = 1_000_000;\n",
        "vecsamples = rand(house_dist, n_samples);\n",
        "vecsamples = vecsamples .* u\"ft\"\n",
        "damages = damage_fn.(vecsamples);\n",
        "expecteddamages = mean(damages)"
      ],
      "id": "422b6815",
      "execution_count": null,
      "outputs": []
    },
    {
      "cell_type": "markdown",
      "metadata": {},
      "source": [
        "This expecteddamages value presents the expected **percentage** of the structural value lost during a flood event.  Running from the baseline code we have above, we find that the expected annual damage falls around 20%, a shockingly high number.  This is consistent with the clear vulnerability of the Galveston community and increasing exposure to flooding.\n",
        "\n",
        "However, in this lab, non-stationarity in the parameters which define this flood distribution will not be considered.  However, this lab will use the methodology of expected damages to better understand the implications of raising this home to mitigate flood damages.\n",
        "\n",
        "Here, before discussing the functions, I redefine the variables from Lab 03.\n"
      ],
      "id": "10987644"
    },
    {
      "cell_type": "code",
      "metadata": {},
      "source": [
        "flood_dist = house_dist; #already includes the offset\n",
        "damage_fn = damage_fn;\n",
        "house_area = house_area;\n",
        "house_value = house_value;\n",
        "elevation_cost = get_elevation_cost_function() ;"
      ],
      "id": "3fcdb2a9",
      "execution_count": null,
      "outputs": []
    },
    {
      "cell_type": "markdown",
      "metadata": {},
      "source": [
        "Next, we can take a quick preemptive look at what it might cost to elevate the house:\n"
      ],
      "id": "b1a6d571"
    },
    {
      "cell_type": "code",
      "metadata": {},
      "source": [
        "Δh2 = 1.0*u\"ft\";\n",
        "c_constr = elevation_cost(Δh2, house_area)"
      ],
      "id": "35c05607",
      "execution_count": null,
      "outputs": []
    },
    {
      "cell_type": "markdown",
      "metadata": {},
      "source": [
        "This line tells us that, to elevate the house one foot it could take around $90,000 dollars.  Admittedly, I did some research of my own and this value does seem a little high.  However, the point of this lab is not to get the exact value of the cost of elevation, but to understand the implications of elevation on the NPV of the home.  However, it could be an interesting exercise to go back and quantify this cost of elevation more precisely.\n",
        "\n",
        "## Single Year Cost-Benefit\n",
        "\n",
        "Below, we define the cost benefit for a single year. This function takes in the flood distribution, the damage function, the cost of elevation, the area of the house, the value of the house, and the elevation change.  It then calculates the expected damages (using the flood distribution, consequent damage function, and a Monte Carlo Sampling to find the percent damages to multiply against the house value) and the cost of elevation (calculated with the house elevation height, square footage, and elevation_cost function) and returns the total cost and benefit.\n"
      ],
      "id": "1eb6b2a4"
    },
    {
      "cell_type": "code",
      "metadata": {},
      "source": [
        "function single_year_cost_benefit(flood_dist, damage_fn, elevation_cost, house_area, house_value, Δh)\n",
        "    \n",
        "    # calculate the expected damages\n",
        "    n_samples = 1_000_000;\n",
        "    new_flood_dist = GeneralizedExtremeValue(flood_dist.μ - ustrip(Δh), flood_dist.σ, flood_dist.ξ);\n",
        "    vecsamples = rand(new_flood_dist, n_samples);\n",
        "    vecsamples = vecsamples .* u\"ft\"\n",
        "    damages = damage_fn.(vecsamples);\n",
        "    expecteddamages = mean(damages)\n",
        "    c_dmg = house_value * expecteddamages / 100;\n",
        "\n",
        "    # calculate the cost of elevating\n",
        "    c_constr = elevation_cost(Δh, house_area)\n",
        "\n",
        "    # return the total cost and benefit\n",
        "    return -c_constr - c_dmg\n",
        "end"
      ],
      "id": "830550d5",
      "execution_count": null,
      "outputs": []
    },
    {
      "cell_type": "markdown",
      "metadata": {},
      "source": [
        "## Net Present Value\n",
        "\n",
        "However, this just gives us the expected damages or cost for a singular year.  We need to be able to calculate the total damages we might experience over a period of time.  For this reason, we define the function `npv_cost_benefit` which takes in the flood distribution, the damage function, the cost of elevation, the area of the house, the value of the house, the elevation change, the time period, and the discount rate.  It then calculates the expected damages for each year (applies a discount to account for the fact that, for many people, a dollar today is \"worth\" more than a dollar in the future), and returns the expected damages over the entire period.\n",
        "\n",
        "It is important to note that **elevation is only considered in the first year**; the house is elevated as a one time cost.  Consequently, as seen in the \"if\" condition below, Δh is only input into the function when i=1 (e.g. the first year).  However, we also need to remember that, once we elevate the house, the flood_distribution changes.  Consequently, a new variable `post_elev_flood_dist` is defined to represent the flood distribution after the elevation.  This is then used to calculate the expected damages for the subsequent years.\n"
      ],
      "id": "90137a9b"
    },
    {
      "cell_type": "code",
      "metadata": {},
      "source": [
        "function npv_cost_benefit(flood_dist, damage_fn, elevation_cost, house_area, house_value, Δh, T, discount_rate)\n",
        "    npv=0;\n",
        "    years = 1:T\n",
        "    for i in years\n",
        "        if i == 1\n",
        "            snpv = single_year_cost_benefit(flood_dist, damage_fn, elevation_cost, house_area, house_value, Δh)\n",
        "            npv = npv+snpv\n",
        "        else\n",
        "            post_elev_flood_dist = GeneralizedExtremeValue(flood_dist.μ - ustrip(Δh), flood_dist.σ, flood_dist.ξ);\n",
        "            snpv = single_year_cost_benefit(post_elev_flood_dist, damage_fn, elevation_cost, house_area, house_value, 0*u\"ft\" ) * (1 - discount_rate)^i\n",
        "            npv = npv+snpv\n",
        "        end\n",
        "    end\n",
        "    return npv\n",
        "end"
      ],
      "id": "a8e7c1e2",
      "execution_count": null,
      "outputs": []
    },
    {
      "cell_type": "markdown",
      "metadata": {},
      "source": [
        "## Discussion\n",
        "\n",
        "To put this into context, when, this equation tells us how much we might pay over our time period of interest.  This includes the initial elevation cost, which we only incur once, and the expected damages over the time period (with a discount rate).  In this way, with our npv representing the amount of money we will spend given a different action a (e.g. the elevation), we can look for the choice a which minimizes the npv, or the total amount we have to spend over time T.\n",
        "\n",
        "Consider looking at different elevation heights over a time period T = 30 years!\n"
      ],
      "id": "bb580c39"
    },
    {
      "cell_type": "code",
      "metadata": {},
      "source": [
        "elevations = [];\n",
        "totalcosts =[];\n",
        "T = 30;\n",
        "\n",
        "for i = 0:13\n",
        "    push!(elevations, i)\n",
        "    npv = npv_cost_benefit(flood_dist, damage_fn, elevation_cost, house_area, house_value, i*u\"ft\", T, discount_rate)\n",
        "    push!(totalcosts, npv)\n",
        "end\n",
        "\n",
        "positive_totalcosts = abs.(totalcosts)\n",
        "\n",
        "plot()\n",
        "plot(elevations, positive_totalcosts, xlabel=\"Elevation (ft)\", ylabel=\"Total Costs\", label=\"Elevation vs. Total Cost over $T Years\", legend=:topleft)"
      ],
      "id": "5cb8ff85",
      "execution_count": null,
      "outputs": []
    },
    {
      "cell_type": "markdown",
      "metadata": {},
      "source": [
        "This graph, though it is limited by the bounds of the elevation cost function, shows that there is a critical point at which the benefits of avoiding flood damages no longer outweights the cost of elevating the house.  In other words, elevating the house has diminishing returns.  This is a good point to find on the graph because it can inform the optimal elevation height.  Based on the graph produced by the block above, it seems that elevating to around 9 feet produces the smallest expected cost over these 30 years.\n",
        "\n",
        "We can also visualize this another way.  Consider plotting the expected damages as the time period grows, with each line representing a different elevation height.\n"
      ],
      "id": "db1a39e2"
    },
    {
      "cell_type": "code",
      "metadata": {},
      "source": [
        "p = plot()\n",
        "for i = 0:2:9\n",
        "    npvs = [];\n",
        "    years = [];\n",
        "    for j = 1:5:30\n",
        "        npv = npv_cost_benefit(flood_dist, damage_fn, elevation_cost, house_area, house_value, i*u\"ft\", j, discount_rate)\n",
        "        push!(npvs, npv)\n",
        "        push!(years, j)\n",
        "    end\n",
        "    p = plot!(years, abs.(npvs), label=\"Elevation: $i ft\")\n",
        "end\n",
        "p = plot!(xlabel=\"Time Period (Years)\", ylabel=\"Expected Costs\", legend=:topleft)\n",
        "p"
      ],
      "id": "82e68517",
      "execution_count": null,
      "outputs": []
    },
    {
      "cell_type": "markdown",
      "metadata": {},
      "source": [
        "This graph plots, with each elevation as a line, the expected costs as T goes from 0 to 30.  For the first line, the expected damages start very small, as there is no elevation cost the first year, but they grow quickly as the home is vulnerable to flooding every single year.  As the house is elevated, the slope of this line decreases as the vulnerability each year declines.  Eventually, the line becomes almost flat as the intercept is determined by the elevation cost and there is relatively no year to year vulnerability.\n",
        "\n",
        "Building on the discussion above, this helps us understand the NPV for different actions.  Elevating the house helps mitigate flooding, reducing the expected damages during our time period.  However, there is a point at which the threat of flooding at that new elevation becomes so small that further elevation is not cost effective.\n",
        "\n",
        "This type of analysis is clearly very beneficial when it comes to decision comparisons.\n"
      ],
      "id": "30813563"
    },
    {
      "cell_type": "code",
      "metadata": {},
      "source": [
        "discount_rate_dist = Normal(0.05, 0.03)\n",
        "n_samples = 100\n",
        "vecsamples = rand(discount_rate_dist, n_samples)\n",
        "npv_values = [npv_cost_benefit(flood_dist, damage_fn, \n",
        "    elevation_cost, house_area, house_value, 9*u\"ft\", 30, discount_rate) for discount_rate in vecsamples]\n",
        "expected_npv = mean(npv_values)\n",
        "plot(1:n_samples, npv_values, label=\"NPV Values\", xlabel=\"Sample Number\", ylabel=\"NPV\", legend=:topleft)"
      ],
      "id": "159d0e62",
      "execution_count": null,
      "outputs": []
    },
    {
      "cell_type": "markdown",
      "metadata": {},
      "source": [
        "The example above shows a potential scenario in which we include uncertainty in the discount value.  This is a wise parameter in which we can consider uncertainty as it is a very hypothetical representation of the fact that people tend to value money in the present more than in the future.  It is a very subjective estimation, and considering this uncertainty is important.\n",
        "\n",
        "Note: I would have liked to include more samples, but due to the limitations of my own personal laptop it was not possible.\n",
        "\n",
        "Furthermore, we can discuss the limitations of this model.  Firstly, there are many assumptions made to simplify this analysis.\n",
        "\n",
        "1. First, the flood distribution is assumed to be constant over time.  This is not realistic, as flood distributions are known to change over time.  This is especially true in the context of climate change, where the frequency and intensity of floods are expected to increase.\n",
        "2. Second, the damage function is assumed to be constant over time.  This is also not realistic, as the value of the home and the cost of construction are expected to change over time.\n",
        "3. Third, this model assumes that, if damage to the home is incurred in one year, it is instantaneously repaired.\n",
        "4. Fourth, the elevation costs produced by the function from depthdamage.jl seemed to be very high.  This is a very important parameter to consider, and it is important to have a more accurate representation of this cost.\n",
        "5. Etc.\n",
        "\n",
        "These are just a few examples of the limitations; when it comes to modeling, understanding that there are many complex and interlacing sources of uncertainty is key.  However, this model is a good starting point for understanding the implications of elevation on the NPV of a home."
      ],
      "id": "63ab33cc"
    }
  ],
  "metadata": {
    "kernelspec": {
      "name": "julia-1.10",
      "language": "julia",
      "display_name": "Julia 1.10.0"
    }
  },
  "nbformat": 4,
  "nbformat_minor": 5
}